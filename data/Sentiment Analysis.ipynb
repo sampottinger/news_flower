{
 "cells": [
  {
   "cell_type": "markdown",
   "metadata": {},
   "source": [
    "# Sentiment Analysis Notebook\n",
    "\n",
    "Generate the sentiment polarity column and a new CSV file for one day of news articles."
   ]
  },
  {
   "cell_type": "code",
   "execution_count": null,
   "metadata": {},
   "outputs": [],
   "source": [
    "import pandas\n",
    "import textblob"
   ]
  },
  {
   "cell_type": "markdown",
   "metadata": {},
   "source": [
    "### One Day Sample"
   ]
  },
  {
   "cell_type": "code",
   "execution_count": null,
   "metadata": {},
   "outputs": [],
   "source": [
    "articles_data = pandas.read_csv('one_day_sample.csv')"
   ]
  },
  {
   "cell_type": "code",
   "execution_count": null,
   "metadata": {},
   "outputs": [],
   "source": [
    "def get_avg_polarity(text):\n",
    "    \"\"\"The text form which to calculate polarity.\n",
    "    \n",
    "    Args:\n",
    "        text (str): The text whose polarity should be calculated.\n",
    "    Returns:\n",
    "        float: The average polarity across all sentences.\n",
    "    \"\"\"\n",
    "    polarities = list(map(\n",
    "        lambda sentence: sentence.sentiment.polarity,\n",
    "        textblob.TextBlob(str(text)).sentences\n",
    "    ))\n",
    "    \n",
    "    if len(polarities) == 0:\n",
    "        return None\n",
    "    else:\n",
    "        return sum(polarities) / len(polarities)"
   ]
  },
  {
   "cell_type": "code",
   "execution_count": null,
   "metadata": {},
   "outputs": [],
   "source": [
    "articles_data['descriptionPolarity'] = articles_data['description'].apply(get_avg_polarity)"
   ]
  },
  {
   "cell_type": "code",
   "execution_count": null,
   "metadata": {},
   "outputs": [],
   "source": [
    "articles_data['descriptionPolarity'].plot.hist()"
   ]
  },
  {
   "cell_type": "markdown",
   "metadata": {},
   "source": [
    "Save results with sentiment"
   ]
  },
  {
   "cell_type": "code",
   "execution_count": null,
   "metadata": {},
   "outputs": [],
   "source": [
    "articles_data[['source', 'title', 'descriptionPolarity']].to_csv('articles_with_sentiment.csv')"
   ]
  },
  {
   "cell_type": "code",
   "execution_count": null,
   "metadata": {},
   "outputs": [],
   "source": [
    "articles_data"
   ]
  },
  {
   "cell_type": "markdown",
   "metadata": {},
   "source": [
    "Get average for articles by source"
   ]
  },
  {
   "cell_type": "code",
   "execution_count": null,
   "metadata": {},
   "outputs": [],
   "source": [
    "sources_ranked = articles_data.groupby('source')['descriptionPolarity'].mean()\\\n",
    "    .copy()\\\n",
    "    .reset_index()\\\n",
    "    .sort_values('descriptionPolarity')"
   ]
  },
  {
   "cell_type": "code",
   "execution_count": null,
   "metadata": {},
   "outputs": [],
   "source": [
    "sources_ranked.to_csv('sources_ranked.csv')"
   ]
  },
  {
   "cell_type": "code",
   "execution_count": null,
   "metadata": {},
   "outputs": [],
   "source": [
    "sources_ranked"
   ]
  },
  {
   "cell_type": "markdown",
   "metadata": {},
   "source": [
    "Some EDA"
   ]
  },
  {
   "cell_type": "code",
   "execution_count": null,
   "metadata": {},
   "outputs": [],
   "source": [
    "articles_data.groupby('source')['descriptionPolarity'].mean()"
   ]
  },
  {
   "cell_type": "code",
   "execution_count": null,
   "metadata": {},
   "outputs": [],
   "source": [
    "articles_data.groupby('source')['descriptionPolarity'].min()"
   ]
  },
  {
   "cell_type": "code",
   "execution_count": null,
   "metadata": {},
   "outputs": [],
   "source": [
    "articles_data.groupby('source')['descriptionPolarity'].max()"
   ]
  },
  {
   "cell_type": "markdown",
   "metadata": {},
   "source": [
    "### March Extremes"
   ]
  },
  {
   "cell_type": "code",
   "execution_count": null,
   "metadata": {},
   "outputs": [],
   "source": [
    "march_data = pandas.read_csv('march_descriptions.csv')"
   ]
  },
  {
   "cell_type": "code",
   "execution_count": null,
   "metadata": {},
   "outputs": [],
   "source": [
    "march_data['descriptionPolarity'] = march_data['description'].apply(get_avg_polarity)"
   ]
  },
  {
   "cell_type": "code",
   "execution_count": null,
   "metadata": {},
   "outputs": [],
   "source": [
    "min_vals = march_data.groupby('dayOfMarch')['descriptionPolarity'].min().reset_index()"
   ]
  },
  {
   "cell_type": "code",
   "execution_count": null,
   "metadata": {},
   "outputs": [],
   "source": [
    "max_vals = march_data.groupby('dayOfMarch')['descriptionPolarity'].max().reset_index()"
   ]
  },
  {
   "cell_type": "code",
   "execution_count": null,
   "metadata": {},
   "outputs": [],
   "source": [
    "joined_vals = pandas.merge(left=min_vals, right=max_vals, on='dayOfMarch', suffixes=['Min', 'Max'])"
   ]
  },
  {
   "cell_type": "code",
   "execution_count": null,
   "metadata": {},
   "outputs": [],
   "source": [
    "ax = joined_vals.plot.line(\n",
    "    x='dayOfMarch',\n",
    "    y=['descriptionPolarityMin', 'descriptionPolarityMax'],\n",
    "    title='Range of Sentiment (June 2019)',\n",
    "    color='#007AFF',\n",
    "    legend=False,\n",
    "    figsize=(10, 5)\n",
    ")\n",
    "\n",
    "ax.set_xlabel('Day of June 2019')\n",
    "ax.set_ylabel('Sentiment Polarity')"
   ]
  },
  {
   "cell_type": "code",
   "execution_count": null,
   "metadata": {},
   "outputs": [],
   "source": []
  }
 ],
 "metadata": {
  "kernelspec": {
   "display_name": "Python 3",
   "language": "python",
   "name": "python3"
  },
  "language_info": {
   "codemirror_mode": {
    "name": "ipython",
    "version": 3
   },
   "file_extension": ".py",
   "mimetype": "text/x-python",
   "name": "python",
   "nbconvert_exporter": "python",
   "pygments_lexer": "ipython3",
   "version": "3.7.1"
  }
 },
 "nbformat": 4,
 "nbformat_minor": 2
}
